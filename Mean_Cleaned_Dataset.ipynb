{
 "cells": [
  {
   "cell_type": "code",
   "execution_count": 1,
   "id": "95bcad4a-1d2c-4559-97a4-2c38c4d1a71e",
   "metadata": {},
   "outputs": [
    {
     "name": "stdout",
     "output_type": "stream",
     "text": [
      "Missing values filled, outliers removed, and cleaned dataset saved to 'AllDistrict_Production_Cleaned_mean.csv'\n"
     ]
    }
   ],
   "source": [
    "import pandas as pd\n",
    "import numpy as np\n",
    "\n",
    "\n",
    "# Load the dataset\n",
    "file_path = 'AllDistrict_Production.csv'\n",
    "data = pd.read_csv(file_path)\n",
    "\n",
    "# Define the columns for which to fill missing values and remove outliers\n",
    "columns_to_clean = ['Sunshine hours', 'Fertilizer']  # Replace with the correct column names\n",
    "\n",
    "# Function to remove outliers using the IQR method\n",
    "def remove_outliers(df, column):\n",
    "    Q1 = df[column].quantile(0.25)\n",
    "    Q3 = df[column].quantile(0.75)\n",
    "    IQR = Q3 - Q1\n",
    "    lower_bound = Q1 - 1.5 * IQR\n",
    "    upper_bound = Q3 + 1.5 * IQR\n",
    "    return df[(df[column] >= lower_bound) & (df[column] <= upper_bound)]\n",
    "\n",
    "# Function to fill missing values in a column with the mean value\n",
    "def fill_missing_values(df, column):\n",
    "    mean_value = df[column].mean()\n",
    "    df[column].fillna(mean_value, inplace=True)\n",
    "\n",
    "# Check if the columns exist in the dataset and clean them\n",
    "for column in columns_to_clean:\n",
    "    if column in data.columns:\n",
    "        # Fill missing values for the specified column\n",
    "        fill_missing_values(data, column)\n",
    "        \n",
    "        # Remove outliers from the entire dataset for the specified column\n",
    "        data = remove_outliers(data, column)\n",
    "    else:\n",
    "        print(f\"The column '{column}' is not found in the dataset.\")\n",
    "\n",
    "# Save the cleaned dataset to a new CSV file\n",
    "cleaned_file_path = 'AllDistrict_Production_Cleaned_mean.csv'\n",
    "data.to_csv(cleaned_file_path, index=False)\n",
    "\n",
    "print(f\"Missing values filled, outliers removed, and cleaned dataset saved to '{cleaned_file_path}'\")\n"
   ]
  }
 ],
 "metadata": {
  "kernelspec": {
   "display_name": "Python 3 (ipykernel)",
   "language": "python",
   "name": "python3"
  },
  "language_info": {
   "codemirror_mode": {
    "name": "ipython",
    "version": 3
   },
   "file_extension": ".py",
   "mimetype": "text/x-python",
   "name": "python",
   "nbconvert_exporter": "python",
   "pygments_lexer": "ipython3",
   "version": "3.11.9"
  }
 },
 "nbformat": 4,
 "nbformat_minor": 5
}

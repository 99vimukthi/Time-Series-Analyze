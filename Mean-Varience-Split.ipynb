{
 "cells": [
  {
   "cell_type": "markdown",
   "id": "d83feb85-dd00-4511-8882-c6bc0a1517cc",
   "metadata": {},
   "source": [
    "## Rathnapura Mean/Varience Split Data"
   ]
  },
  {
   "cell_type": "code",
   "execution_count": 2,
   "id": "34373d17-cd89-4bc5-8630-01387bf39735",
   "metadata": {},
   "outputs": [
    {
     "name": "stdout",
     "output_type": "stream",
     "text": [
      "mean1=5787331.857143, mean2=5497090.678571, mean3=5135011.857143\n",
      "variance1=540180627477.693787, variance2=818816947645.218140, variance3=631313648205.051025\n"
     ]
    }
   ],
   "source": [
    "# import the python pandas library\n",
    "import pandas as pd\n",
    "\n",
    "# use pandas read_csv() function to read the dataset.\n",
    "data = pd.read_csv(\"Arima_Rathnapura.csv\",parse_dates=['Month'],index_col=['Month'])\n",
    "\n",
    "# extracting only the  count from\n",
    "# the dataset using values function\n",
    "values = data.values\n",
    "\n",
    "# getting the count to split the dataset into 3\n",
    "parts = int(len(values)/3)\n",
    "\n",
    "# splitting the data into three parts\n",
    "part_1, part_2, part_3 = values[0:parts], values[parts:(\n",
    "\tparts*2)], values[(parts*2):(parts*3)]\n",
    "\n",
    "# calculating the mean of the separated three \n",
    "# parts of data individually.\n",
    "mean_1, mean_2, mean_3 = part_1.mean(), part_2.mean(), part_3.mean()\n",
    "\n",
    "# calculating the variance of the separated \n",
    "# three parts of data individually.\n",
    "var_1, var_2, var_3 = part_1.var(), part_2.var(), part_3.var()\n",
    "\n",
    "# printing the mean of three groups\n",
    "print('mean1=%f, mean2=%f, mean3=%f' % (mean_1, mean_2, mean_3))\n",
    "\n",
    "# printing the variance of three groups\n",
    "print('variance1=%f, variance2=%f, variance3=%f' % (var_1, var_2, var_3))\n"
   ]
  },
  {
   "cell_type": "markdown",
   "id": "07232256-5117-4943-8f90-558183ba1926",
   "metadata": {},
   "source": [
    "## NuwaraEliya Mean/Varience Split Data"
   ]
  },
  {
   "cell_type": "code",
   "execution_count": 3,
   "id": "90024dfb-f0bf-4faf-9d6a-6c9c08c620c4",
   "metadata": {},
   "outputs": [
    {
     "name": "stdout",
     "output_type": "stream",
     "text": [
      "mean1=5032348.785714, mean2=4782917.535714, mean3=4665212.428571\n",
      "variance1=1376805496839.668213, variance2=1670621041725.462891, variance3=1164470926280.959473\n"
     ]
    }
   ],
   "source": [
    "# import the python pandas library\n",
    "import pandas as pd\n",
    "\n",
    "# use pandas read_csv() function to read the dataset.\n",
    "data = pd.read_csv(\"NuwaraEliyaArima.csv\",parse_dates=['Month'],index_col=['Month'])\n",
    "\n",
    "# extracting only the  count from\n",
    "# the dataset using values function\n",
    "values = data.values\n",
    "\n",
    "# getting the count to split the dataset into 3\n",
    "parts = int(len(values)/3)\n",
    "\n",
    "# splitting the data into three parts\n",
    "part_1, part_2, part_3 = values[0:parts], values[parts:(\n",
    "\tparts*2)], values[(parts*2):(parts*3)]\n",
    "\n",
    "# calculating the mean of the separated three \n",
    "# parts of data individually.\n",
    "mean_1, mean_2, mean_3 = part_1.mean(), part_2.mean(), part_3.mean()\n",
    "\n",
    "# calculating the variance of the separated \n",
    "# three parts of data individually.\n",
    "var_1, var_2, var_3 = part_1.var(), part_2.var(), part_3.var()\n",
    "\n",
    "# printing the mean of three groups\n",
    "print('mean1=%f, mean2=%f, mean3=%f' % (mean_1, mean_2, mean_3))\n",
    "\n",
    "# printing the variance of three groups\n",
    "print('variance1=%f, variance2=%f, variance3=%f' % (var_1, var_2, var_3))"
   ]
  },
  {
   "cell_type": "markdown",
   "id": "0a84c681-8dd8-4202-8554-26a6edfe2434",
   "metadata": {},
   "source": [
    "## Galle Mean/Varience Split Data"
   ]
  },
  {
   "cell_type": "code",
   "execution_count": 4,
   "id": "1c363f60-f486-4e7c-944b-f1744ff67291",
   "metadata": {},
   "outputs": [
    {
     "name": "stdout",
     "output_type": "stream",
     "text": [
      "mean1=3664374.785714, mean2=3423589.035714, mean3=3288629.142857\n",
      "variance1=175289288977.668365, variance2=418009186364.105835, variance3=171867547436.051056\n"
     ]
    }
   ],
   "source": [
    "# import the python pandas library\n",
    "import pandas as pd\n",
    "\n",
    "# use pandas read_csv() function to read the dataset.\n",
    "data = pd.read_csv(\"Galle_Arima_model.csv\",parse_dates=['Month'],index_col=['Month'])\n",
    "\n",
    "# extracting only the  count from\n",
    "# the dataset using values function\n",
    "values = data.values\n",
    "\n",
    "# getting the count to split the dataset into 3\n",
    "parts = int(len(values)/3)\n",
    "\n",
    "# splitting the data into three parts\n",
    "part_1, part_2, part_3 = values[0:parts], values[parts:(\n",
    "\tparts*2)], values[(parts*2):(parts*3)]\n",
    "\n",
    "# calculating the mean of the separated three \n",
    "# parts of data individually.\n",
    "mean_1, mean_2, mean_3 = part_1.mean(), part_2.mean(), part_3.mean()\n",
    "\n",
    "# calculating the variance of the separated \n",
    "# three parts of data individually.\n",
    "var_1, var_2, var_3 = part_1.var(), part_2.var(), part_3.var()\n",
    "\n",
    "# printing the mean of three groups\n",
    "print('mean1=%f, mean2=%f, mean3=%f' % (mean_1, mean_2, mean_3))\n",
    "\n",
    "# printing the variance of three groups\n",
    "print('variance1=%f, variance2=%f, variance3=%f' % (var_1, var_2, var_3))"
   ]
  },
  {
   "cell_type": "markdown",
   "id": "b3a19521-bfef-4948-ad42-0c2581ba5069",
   "metadata": {},
   "source": [
    "## Matara Mean/Varience Split Data"
   ]
  },
  {
   "cell_type": "code",
   "execution_count": 5,
   "id": "ee2102e4-94c3-4513-9b1e-d661092a57e2",
   "metadata": {},
   "outputs": [
    {
     "name": "stdout",
     "output_type": "stream",
     "text": [
      "mean1=3036058.464286, mean2=2809131.214286, mean3=2743062.357143\n",
      "variance1=184184904500.034454, variance2=312498185720.596924, variance3=94853954464.658157\n"
     ]
    }
   ],
   "source": [
    "# import the python pandas library\n",
    "import pandas as pd\n",
    "\n",
    "# use pandas read_csv() function to read the dataset.\n",
    "data = pd.read_csv(\"MataraArima1.csv\",parse_dates=['Month'],index_col=['Month'])\n",
    "\n",
    "# extracting only the  count from\n",
    "# the dataset using values function\n",
    "values = data.values\n",
    "\n",
    "# getting the count to split the dataset into 3\n",
    "parts = int(len(values)/3)\n",
    "\n",
    "# splitting the data into three parts\n",
    "part_1, part_2, part_3 = values[0:parts], values[parts:(\n",
    "\tparts*2)], values[(parts*2):(parts*3)]\n",
    "\n",
    "# calculating the mean of the separated three \n",
    "# parts of data individually.\n",
    "mean_1, mean_2, mean_3 = part_1.mean(), part_2.mean(), part_3.mean()\n",
    "\n",
    "# calculating the variance of the separated \n",
    "# three parts of data individually.\n",
    "var_1, var_2, var_3 = part_1.var(), part_2.var(), part_3.var()\n",
    "\n",
    "# printing the mean of three groups\n",
    "print('mean1=%f, mean2=%f, mean3=%f' % (mean_1, mean_2, mean_3))\n",
    "\n",
    "# printing the variance of three groups\n",
    "print('variance1=%f, variance2=%f, variance3=%f' % (var_1, var_2, var_3))"
   ]
  },
  {
   "cell_type": "code",
   "execution_count": null,
   "id": "c2830b4f-1650-4e27-bde9-45efe6fb9d03",
   "metadata": {},
   "outputs": [],
   "source": []
  },
  {
   "cell_type": "code",
   "execution_count": null,
   "id": "28448688-acad-46da-8139-b7f64766af2d",
   "metadata": {},
   "outputs": [],
   "source": []
  },
  {
   "cell_type": "code",
   "execution_count": null,
   "id": "da580e0f-1e94-468e-9bde-959e2db27536",
   "metadata": {},
   "outputs": [],
   "source": []
  },
  {
   "cell_type": "code",
   "execution_count": null,
   "id": "59df942a-2d3e-4136-9eed-929427c93f9b",
   "metadata": {},
   "outputs": [],
   "source": []
  },
  {
   "cell_type": "code",
   "execution_count": null,
   "id": "f76eedde-b738-4059-82b8-c3005ee01e44",
   "metadata": {},
   "outputs": [],
   "source": []
  }
 ],
 "metadata": {
  "kernelspec": {
   "display_name": "Python 3 (ipykernel)",
   "language": "python",
   "name": "python3"
  },
  "language_info": {
   "codemirror_mode": {
    "name": "ipython",
    "version": 3
   },
   "file_extension": ".py",
   "mimetype": "text/x-python",
   "name": "python",
   "nbconvert_exporter": "python",
   "pygments_lexer": "ipython3",
   "version": "3.11.9"
  }
 },
 "nbformat": 4,
 "nbformat_minor": 5
}
